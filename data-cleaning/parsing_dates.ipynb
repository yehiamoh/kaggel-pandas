{
 "cells": [
  {
   "cell_type": "code",
   "execution_count": 3,
   "id": "ff6509af",
   "metadata": {},
   "outputs": [],
   "source": [
    "# modules we'll use\n",
    "import pandas as pd\n",
    "import numpy as np\n",
    "import seaborn as sns\n",
    "import datetime\n",
    "\n",
    "# read in our data\n",
    "landslides = pd.read_csv(\"../data/catalog.csv\")\n",
    "\n",
    "# set seed for reproducibility\n",
    "np.random.seed(0)"
   ]
  },
  {
   "cell_type": "markdown",
   "id": "4ac0edcf",
   "metadata": {},
   "source": [
    "Get The Dates of the First Few Rows"
   ]
  },
  {
   "cell_type": "code",
   "execution_count": 4,
   "id": "9b99fa64",
   "metadata": {},
   "outputs": [
    {
     "data": {
      "text/plain": [
       "0     3/2/07\n",
       "1    3/22/07\n",
       "2     4/6/07\n",
       "3    4/14/07\n",
       "4    4/15/07\n",
       "Name: date, dtype: object"
      ]
     },
     "execution_count": 4,
     "metadata": {},
     "output_type": "execute_result"
    }
   ],
   "source": [
    "landslides['date'].head()"
   ]
  },
  {
   "cell_type": "markdown",
   "id": "3a934ed5",
   "metadata": {},
   "source": [
    "Notice That the type of the date column is and Object not a date"
   ]
  },
  {
   "cell_type": "code",
   "execution_count": 5,
   "id": "1423050a",
   "metadata": {},
   "outputs": [
    {
     "data": {
      "text/plain": [
       "dtype('O')"
      ]
     },
     "execution_count": 5,
     "metadata": {},
     "output_type": "execute_result"
    }
   ],
   "source": [
    "landslides['date'].dtype"
   ]
  },
  {
   "cell_type": "markdown",
   "id": "c979cc01",
   "metadata": {},
   "source": [
    "Parse The string into those formated Dates"
   ]
  },
  {
   "cell_type": "code",
   "execution_count": 12,
   "id": "37aa5231",
   "metadata": {},
   "outputs": [
    {
     "data": {
      "text/plain": [
       "0      2007-03-02\n",
       "1      2007-03-22\n",
       "2      2007-04-06\n",
       "3      2007-04-14\n",
       "4      2007-04-15\n",
       "          ...    \n",
       "1688   2015-12-07\n",
       "1689   2016-02-22\n",
       "1690   2016-02-23\n",
       "1691   2016-02-26\n",
       "1692   2016-03-02\n",
       "Name: date-parsed, Length: 1693, dtype: datetime64[ns]"
      ]
     },
     "execution_count": 12,
     "metadata": {},
     "output_type": "execute_result"
    }
   ],
   "source": [
    "landslides['date-parsed']=pd.to_datetime(landslides['date'],format=\"%m/%d/%y\")\n",
    "landslides['date-parsed']\n",
    "\n",
    "#onther format four digit year\n",
    "\n",
    "#landslides['date-parsed-four-digit-year']=pd.to_datetime(landslides['date'],format=\"%m/%d/%Y\")\n",
    "#landslides['date']\n"
   ]
  },
  {
   "cell_type": "markdown",
   "id": "ec2227da",
   "metadata": {},
   "source": [
    "Get the Day occures in each date"
   ]
  },
  {
   "cell_type": "code",
   "execution_count": 14,
   "id": "a62497bb",
   "metadata": {},
   "outputs": [
    {
     "data": {
      "text/plain": [
       "0     2.0\n",
       "1    22.0\n",
       "2     6.0\n",
       "3    14.0\n",
       "4    15.0\n",
       "Name: date-parsed, dtype: float64"
      ]
     },
     "execution_count": 14,
     "metadata": {},
     "output_type": "execute_result"
    }
   ],
   "source": [
    "days=landslides['date-parsed'].dt.day\n",
    "days.head()"
   ]
  }
 ],
 "metadata": {
  "kernelspec": {
   "display_name": "Python 3",
   "language": "python",
   "name": "python3"
  },
  "language_info": {
   "codemirror_mode": {
    "name": "ipython",
    "version": 3
   },
   "file_extension": ".py",
   "mimetype": "text/x-python",
   "name": "python",
   "nbconvert_exporter": "python",
   "pygments_lexer": "ipython3",
   "version": "3.13.0"
  }
 },
 "nbformat": 4,
 "nbformat_minor": 5
}
