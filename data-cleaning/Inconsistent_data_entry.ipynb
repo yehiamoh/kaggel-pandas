{
 "cells": [
  {
   "cell_type": "markdown",
   "id": "e2ea16be",
   "metadata": {},
   "source": [
    "<h4> Enviroment Setup</h4>"
   ]
  },
  {
   "cell_type": "code",
   "execution_count": 2,
   "id": "dda45c11",
   "metadata": {},
   "outputs": [
    {
     "name": "stderr",
     "output_type": "stream",
     "text": [
      "c:\\Users\\yehia\\AppData\\Local\\Programs\\Python\\Python313\\Lib\\site-packages\\fuzzywuzzy\\fuzz.py:11: UserWarning: Using slow pure-python SequenceMatcher. Install python-Levenshtein to remove this warning\n",
      "  warnings.warn('Using slow pure-python SequenceMatcher. Install python-Levenshtein to remove this warning')\n"
     ]
    }
   ],
   "source": [
    "# modules we'll use\n",
    "import pandas as pd\n",
    "import numpy as np\n",
    "\n",
    "# helpful modules\n",
    "import fuzzywuzzy\n",
    "from fuzzywuzzy import process\n",
    "import charset_normalizer\n",
    "\n",
    "# read in all our data\n",
    "professors = pd.read_csv(\"../data/pakistan_intellectual_capital.csv\")\n",
    "\n",
    "# set seed for reproducibility\n",
    "np.random.seed(0)\n"
   ]
  },
  {
   "cell_type": "code",
   "execution_count": 3,
   "id": "7f0c60ae",
   "metadata": {},
   "outputs": [
    {
     "data": {
      "text/plain": [
       "array([' Germany', ' New Zealand', ' Sweden', ' USA', 'Australia',\n",
       "       'Austria', 'Canada', 'China', 'Finland', 'France', 'Greece',\n",
       "       'HongKong', 'Ireland', 'Italy', 'Japan', 'Macau', 'Malaysia',\n",
       "       'Mauritius', 'Netherland', 'New Zealand', 'Norway', 'Pakistan',\n",
       "       'Portugal', 'Russian Federation', 'Saudi Arabia', 'Scotland',\n",
       "       'Singapore', 'South Korea', 'SouthKorea', 'Spain', 'Sweden',\n",
       "       'Thailand', 'Turkey', 'UK', 'USA', 'USofA', 'Urbana', 'germany'],\n",
       "      dtype=object)"
      ]
     },
     "execution_count": 3,
     "metadata": {},
     "output_type": "execute_result"
    }
   ],
   "source": [
    "countries=professors['Country'].unique()\n",
    "\n",
    "countries.sort()\n",
    "\n",
    "countries\n"
   ]
  },
  {
   "cell_type": "markdown",
   "id": "1693684d",
   "metadata": {},
   "source": [
    "<p>As we see here in Country column their are inconsistent data we can see for an example ( New Zealand) and (New Zealand) also (Germany) and (germany)</p>"
   ]
  },
  {
   "cell_type": "markdown",
   "id": "7fb5768b",
   "metadata": {},
   "source": [
    "We can Do some modification and cleaning in the data we observed"
   ]
  },
  {
   "cell_type": "code",
   "execution_count": 4,
   "id": "6db50119",
   "metadata": {},
   "outputs": [],
   "source": [
    "# convert to lower case\n",
    "professors['Country']=professors[\"Country\"].str.lower()\n",
    "#reomve trailing white spaces\n",
    "professors['Country']=professors['Country'].str.strip()"
   ]
  },
  {
   "cell_type": "markdown",
   "id": "72ff3027",
   "metadata": {},
   "source": [
    "<p>Fuzzy matching: The process of automatically finding text strings that are very similar to the target string. In general, a string is considered \"closer\" to another one the fewer characters you'd need to change if you were transforming one string into another. So \"apple\" and \"snapple\" are two changes away from each other (add \"s\" and \"n\") while \"in\" and \"on\" and one change away (rplace \"i\" with \"o\"). You won't always be able to rely on fuzzy matching 100%, but it will usually end up saving you at least a little time</p>"
   ]
  },
  {
   "cell_type": "code",
   "execution_count": 5,
   "id": "fd27792a",
   "metadata": {},
   "outputs": [
    {
     "data": {
      "text/plain": [
       "[('South Korea', 100),\n",
       " ('SouthKorea', 48),\n",
       " ('Saudi Arabia', 43),\n",
       " ('Norway', 35),\n",
       " ('Ireland', 33),\n",
       " ('Portugal', 32),\n",
       " ('Singapore', 30),\n",
       " ('Netherland', 29),\n",
       " ('Macau', 25),\n",
       " ('USofA', 25)]"
      ]
     },
     "execution_count": 5,
     "metadata": {},
     "output_type": "execute_result"
    }
   ],
   "source": [
    "# get the top 10 closest matches to \"south korea\"\n",
    "matches = fuzzywuzzy.process.extract(\"south korea\", countries, limit=10, scorer=fuzzywuzzy.fuzz.token_sort_ratio)\n",
    "\n",
    "# take a look at them\n",
    "matches"
   ]
  },
  {
   "cell_type": "code",
   "execution_count": 6,
   "id": "22b648b7",
   "metadata": {},
   "outputs": [],
   "source": [
    "def replace_matches_in_column(df,column,string_to_match,min_ratio=47):\n",
    "    # get a list of unique strings\n",
    "    strings=df[column].unique()\n",
    "    \n",
    "    # get the top 10 closest matches to our input string\n",
    "    matches = fuzzywuzzy.process.extract(string_to_match, strings, \n",
    "                                         limit=10, scorer=fuzzywuzzy.fuzz.token_sort_ratio)\n",
    "    \n",
    "    # only get matches with a ratio > 90\n",
    "    close_matches=[matches[0]for matches in matches if matches[1]>=min_ratio]\n",
    "    # get the rows of all the close matches in our dataframe\n",
    "    rows_with_matches = df[column].isin(close_matches)\n",
    "\n",
    "    # replace all rows with close matches with the input matches \n",
    "    df.loc[rows_with_matches, column] = string_to_match    "
   ]
  },
  {
   "cell_type": "code",
   "execution_count": 7,
   "id": "90e7c1eb",
   "metadata": {},
   "outputs": [],
   "source": [
    "# use the function we just wrote to replace close matches to \"south korea\" with \"south korea\"\n",
    "replace_matches_in_column(df=professors, column='Country', string_to_match=\"south korea\")"
   ]
  }
 ],
 "metadata": {
  "kernelspec": {
   "display_name": "Python 3",
   "language": "python",
   "name": "python3"
  },
  "language_info": {
   "codemirror_mode": {
    "name": "ipython",
    "version": 3
   },
   "file_extension": ".py",
   "mimetype": "text/x-python",
   "name": "python",
   "nbconvert_exporter": "python",
   "pygments_lexer": "ipython3",
   "version": "3.13.0"
  }
 },
 "nbformat": 4,
 "nbformat_minor": 5
}
