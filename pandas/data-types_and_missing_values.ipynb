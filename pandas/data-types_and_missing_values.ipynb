{
 "cells": [
  {
   "cell_type": "code",
   "execution_count": null,
   "id": "dfcccc5e",
   "metadata": {},
   "outputs": [
    {
     "data": {
      "text/plain": [
       "0       No Rating\n",
       "1       No Rating\n",
       "2       No Rating\n",
       "3       No Rating\n",
       "4       No Rating\n",
       "          ...    \n",
       "2575    No Rating\n",
       "2576    No Rating\n",
       "2577    No Rating\n",
       "2578    No Rating\n",
       "2579    No Rating\n",
       "Name: Top Ten, Length: 2580, dtype: object"
      ]
     },
     "execution_count": 13,
     "metadata": {},
     "output_type": "execute_result"
    }
   ],
   "source": [
    "import pandas as pd\n",
    "reviews=pd.read_csv(\"./data/ramen-ratings.csv\")\n",
    "reviews.dtypes # get the datatypes of each column in the frame\n",
    "\n",
    "reviews.Brand.dtype # get a certain column data type \n",
    "reviews.index.dtype # get the type of the index column\n",
    "\n",
    "reviews.index.astype('float64') # do data conversion of the index column from int64 to float64\n",
    "\n",
    "reviews['Top Ten']\n",
    "\n",
    "reviews[pd.isnull(reviews['Country'])] # get the null countries\n",
    "reviews[pd.isnull(reviews['Top Ten'])] # get the null Top ten column data\n",
    "\n",
    "#fillna function replace each NaN into a certian value you assert\n",
    "reviews['Top Ten'].fillna(\"No Rating\")"
   ]
  }
 ],
 "metadata": {
  "kernelspec": {
   "display_name": "Python 3",
   "language": "python",
   "name": "python3"
  },
  "language_info": {
   "codemirror_mode": {
    "name": "ipython",
    "version": 3
   },
   "file_extension": ".py",
   "mimetype": "text/x-python",
   "name": "python",
   "nbconvert_exporter": "python",
   "pygments_lexer": "ipython3",
   "version": "3.13.0"
  }
 },
 "nbformat": 4,
 "nbformat_minor": 5
}
