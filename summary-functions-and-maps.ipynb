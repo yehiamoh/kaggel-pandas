{
 "cells": [
  {
   "cell_type": "code",
   "execution_count": null,
   "id": "ba35ac59",
   "metadata": {},
   "outputs": [
    {
     "data": {
      "text/plain": [
       "array(['Cup', 'Pack', 'Tray', 'Bowl', 'Box', 'Can', 'Bar', nan],\n",
       "      dtype=object)"
      ]
     },
     "execution_count": 5,
     "metadata": {},
     "output_type": "execute_result"
    }
   ],
   "source": [
    "import pandas as pd\n",
    "\n",
    "reviews=pd.read_csv(\"./data/ramen-ratings.csv\")\n",
    "\n",
    "#reviews.Brand.describe() #Describe the Brand column giving the count how many unique , the top and the freq \n",
    "\n",
    "\n",
    "#reviews.Stars.mean()  #give the median if the column data is an int or float [not the case here]\n",
    "\n",
    "reviews.Style.unique() # gives an array of unique values in the column\n"
   ]
  },
  {
   "cell_type": "code",
   "execution_count": 11,
   "id": "f3198e9e",
   "metadata": {},
   "outputs": [
    {
     "data": {
      "text/plain": [
       "Brand\n",
       "Nissin      381\n",
       "Nongshim     98\n",
       "Maruchan     76\n",
       "Mama         71\n",
       "Paldo        66\n",
       "           ... \n",
       "Omachi        1\n",
       "Haioreum      1\n",
       "Sutah         1\n",
       "Tung-I        1\n",
       "Westbrae      1\n",
       "Name: count, Length: 355, dtype: int64"
      ]
     },
     "execution_count": 11,
     "metadata": {},
     "output_type": "execute_result"
    }
   ],
   "source": [
    "'''\n",
    "reviews.dtypes #gives each column data type\n",
    "\n",
    "reviews.head(250) # give the first 250 Rows\n",
    "\n",
    "\n",
    "# Mapping a current Data to change its's state\n",
    "review_points_mean = reviews.points.mean()\n",
    "reviews.points.map(lambda p: p - review_points_mean)\n",
    "\n",
    "\n",
    "# Onther way to do mapping with apply function\n",
    "def remean_points(row):\n",
    "    row.points = row.points - review_points_mean\n",
    "    return row\n",
    "\n",
    "reviews.apply(remean_points, axis='columns')\n",
    "'''\n",
    "reviews.Brand.value_counts()"
   ]
  },
  {
   "cell_type": "code",
   "execution_count": null,
   "id": "e28e988d",
   "metadata": {},
   "outputs": [],
   "source": []
  }
 ],
 "metadata": {
  "kernelspec": {
   "display_name": "Python 3",
   "language": "python",
   "name": "python3"
  },
  "language_info": {
   "codemirror_mode": {
    "name": "ipython",
    "version": 3
   },
   "file_extension": ".py",
   "mimetype": "text/x-python",
   "name": "python",
   "nbconvert_exporter": "python",
   "pygments_lexer": "ipython3",
   "version": "3.13.0"
  }
 },
 "nbformat": 4,
 "nbformat_minor": 5
}
